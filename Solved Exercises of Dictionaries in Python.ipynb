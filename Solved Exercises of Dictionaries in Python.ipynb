{
 "cells": [
  {
   "cell_type": "code",
   "execution_count": 1,
   "id": "609198fe-aa7f-4801-8943-f58de0a74001",
   "metadata": {},
   "outputs": [
    {
     "name": "stdout",
     "output_type": "stream",
     "text": [
      "{'name': 'Nobita', 'age': 15, 'city': 'Japan', 'hobbies': ['sleeping', 'eating', 'travelling']}\n"
     ]
    }
   ],
   "source": [
    "# (a)\n",
    "person = {\n",
    "    \"name\": \"Nobita\",\n",
    "    \"age\": 15,\n",
    "    \"city\": \"Japan\",\n",
    "    \"hobbies\": [\"sleeping\", \"eating\", \"travelling\"]\n",
    "}\n",
    "\n",
    "print(person)\n"
   ]
  },
  {
   "cell_type": "code",
   "execution_count": 3,
   "id": "992c52b5-d680-4352-9bae-c17a8e8b7f40",
   "metadata": {},
   "outputs": [
    {
     "name": "stdin",
     "output_type": "stream",
     "text": [
      "Enter a text:  I AM HADIA. HADIA IS DUMB\n"
     ]
    },
    {
     "name": "stdout",
     "output_type": "stream",
     "text": [
      "\n",
      "Word Frequencies:\n",
      "i: 1\n",
      "am: 1\n",
      "hadia: 2\n",
      "is: 1\n",
      "dumb: 1\n"
     ]
    }
   ],
   "source": [
    "# (b) \n",
    "def count_word_frequency(text):\n",
    "    text = text.lower()\n",
    "    import string\n",
    "    text = text.translate(str.maketrans('', '', string.punctuation))\n",
    "    words = text.split()\n",
    "    word_freq = {}\n",
    "    for word in words:\n",
    "        if word in word_freq:\n",
    "            word_freq[word] += 1\n",
    "        else:\n",
    "            word_freq[word] = 1\n",
    "    \n",
    "    return word_freq\n",
    "if __name__ == \"__main__\":\n",
    "    input_text = input(\"Enter a text: \")\n",
    "    frequencies = count_word_frequency(input_text)\n",
    "    print(\"\\nWord Frequencies:\")\n",
    "    for word, count in frequencies.items():\n",
    "        print(f\"{word}: {count}\")\n"
   ]
  },
  {
   "cell_type": "code",
   "execution_count": 5,
   "id": "612c7045-5c15-4750-9a83-ac2945fd3777",
   "metadata": {},
   "outputs": [
    {
     "name": "stdout",
     "output_type": "stream",
     "text": [
      "apple: 10\n",
      "banana: 3\n",
      "orange: 8\n",
      "grape: 12\n"
     ]
    }
   ],
   "source": [
    "# (c)\n",
    "inventory = {\n",
    "    \"apple\": 10,\n",
    "    \"banana\": 5,\n",
    "    \"orange\": 8\n",
    "}\n",
    "inventory[\"grape\"] = 12\n",
    "inventory[\"banana\"] -= 2\n",
    "for item, quantity in inventory.items():\n",
    "    print(f\"{item}: {quantity}\")\n"
   ]
  },
  {
   "cell_type": "code",
   "execution_count": 9,
   "id": "304f1000-3232-4eaf-aed3-f233c9b544cb",
   "metadata": {},
   "outputs": [
    {
     "name": "stdout",
     "output_type": "stream",
     "text": [
      "The most popular product category is 'Fashion' with 6 products ordered.\n"
     ]
    }
   ],
   "source": [
    "# (d)\n",
    "orders = [\n",
    "    {\"order_id\": 1, \"product_name\": \"Laptop\", \"category\": \"Electronics\", \"quantity\": 1},\n",
    "    {\"order_id\": 2, \"product_name\": \"Smartphone\", \"category\": \"Electronics\", \"quantity\": 2},\n",
    "    {\"order_id\": 3, \"product_name\": \"Shoes\", \"category\": \"Fashion\", \"quantity\": 1},\n",
    "    {\"order_id\": 4, \"product_name\": \"T-shirt\", \"category\": \"Fashion\", \"quantity\": 3},\n",
    "    {\"order_id\": 5, \"product_name\": \"Washing Machine\", \"category\": \"Appliances\", \"quantity\": 1},\n",
    "    {\"order_id\": 6, \"product_name\": \"Headphones\", \"category\": \"Electronics\", \"quantity\": 1},\n",
    "    {\"order_id\": 7, \"product_name\": \"Jacket\", \"category\": \"Fashion\", \"quantity\": 2},\n",
    "]\n",
    "def most_popular_category(orders):\n",
    "    category_count = {}\n",
    "    for order in orders:\n",
    "        category = order[\"category\"]  \n",
    "        quantity = order[\"quantity\"]  \n",
    "        if category in category_count:\n",
    "            category_count[category] += quantity\n",
    "        else:\n",
    "            category_count[category] = quantity\n",
    "    most_popular = max(category_count, key=category_count.get)\n",
    "    \n",
    "    return most_popular, category_count[most_popular]\n",
    "if __name__ == \"__main__\":\n",
    "    orders = [\n",
    "        {\"order_id\": 1, \"product_name\": \"Laptop\", \"category\": \"Electronics\", \"quantity\": 1},\n",
    "        {\"order_id\": 2, \"product_name\": \"Smartphone\", \"category\": \"Electronics\", \"quantity\": 2},\n",
    "        {\"order_id\": 3, \"product_name\": \"Shoes\", \"category\": \"Fashion\", \"quantity\": 1},\n",
    "        {\"order_id\": 4, \"product_name\": \"T-shirt\", \"category\": \"Fashion\", \"quantity\": 3},\n",
    "        {\"order_id\": 5, \"product_name\": \"Washing Machine\", \"category\": \"Appliances\", \"quantity\": 1},\n",
    "        {\"order_id\": 6, \"product_name\": \"Headphones\", \"category\": \"Electronics\", \"quantity\": 1},\n",
    "        {\"order_id\": 7, \"product_name\": \"Jacket\", \"category\": \"Fashion\", \"quantity\": 2},\n",
    "    ]\n",
    "    \n",
    "    popular_category, quantity = most_popular_category(orders)\n",
    "    print(f\"The most popular product category is '{popular_category}' with {quantity} products ordered.\")\n"
   ]
  },
  {
   "cell_type": "code",
   "execution_count": 11,
   "id": "7feee09a-4ac4-43ed-93c4-72135709f294",
   "metadata": {},
   "outputs": [
    {
     "name": "stdout",
     "output_type": "stream",
     "text": [
      "Average Grades:\n",
      "Alice: 88.33\n",
      "Bob: 83.67\n",
      "Charlie: 91.67\n",
      "David: 75.00\n"
     ]
    }
   ],
   "source": [
    "# (e)\n",
    "def calculate_average_grades(grades):\n",
    "    average_grades = {}\n",
    "    for student, grade_list in grades.items():\n",
    "        average_grade = sum(grade_list) / len(grade_list)\n",
    "        average_grades[student] = average_grade\n",
    "    \n",
    "    return average_grades\n",
    "if __name__ == \"__main__\":\n",
    "    student_grades = {\n",
    "        \"Alice\": [85, 92, 88],\n",
    "        \"Bob\": [78, 83, 90],\n",
    "        \"Charlie\": [92, 95, 88],\n",
    "        \"David\": [70, 75, 80],\n",
    "    }\n",
    "    averages = calculate_average_grades(student_grades)\n",
    "    print(\"Average Grades:\")\n",
    "    for student, avg_grade in averages.items():\n",
    "        print(f\"{student}: {avg_grade:.2f}\")\n"
   ]
  },
  {
   "cell_type": "code",
   "execution_count": 13,
   "id": "775466b5-c601-4744-8f15-603aeda16ea3",
   "metadata": {},
   "outputs": [
    {
     "name": "stdout",
     "output_type": "stream",
     "text": [
      "Product 'Tablet' added to inventory.\n",
      "Updated Laptop quantity by -5. New quantity: 45.\n",
      "\n",
      "Total Inventory Value: $239600.00\n",
      "\n",
      "Low-Stock Items:\n",
      "Laptop: 45 units\n",
      "Monitor: 30 units\n"
     ]
    }
   ],
   "source": [
    "# (f)\n",
    "def create_product_inventory():\n",
    "    product_inventory = {\n",
    "        \"Laptop\": {\"quantity\": 50, \"price\": 1200},\n",
    "        \"Smartphone\": {\"quantity\": 150, \"price\": 700},\n",
    "        \"Headphones\": {\"quantity\": 200, \"price\": 150},\n",
    "        \"Keyboard\": {\"quantity\": 120, \"price\": 80},\n",
    "        \"Monitor\": {\"quantity\": 30, \"price\": 300},\n",
    "    }\n",
    "    return product_inventory\n",
    "\n",
    "def add_new_product(inventory, product_name, quantity, price):\n",
    "    if product_name in inventory:\n",
    "        print(f\"Product '{product_name}' already exists.\")\n",
    "    else:\n",
    "        inventory[product_name] = {\"quantity\": quantity, \"price\": price}\n",
    "        print(f\"Product '{product_name}' added to inventory.\")\n",
    "\n",
    "def update_product_quantity(inventory, product_name, quantity):\n",
    "    if product_name in inventory:\n",
    "        inventory[product_name][\"quantity\"] += quantity\n",
    "        print(f\"Updated {product_name} quantity by {quantity}. New quantity: {inventory[product_name]['quantity']}.\")\n",
    "    else:\n",
    "        print(f\"Product '{product_name}' not found in inventory.\")\n",
    "\n",
    "def calculate_total_inventory_value(inventory):\n",
    "    total_value = 0\n",
    "    for product, details in inventory.items():\n",
    "        total_value += details[\"quantity\"] * details[\"price\"]\n",
    "    return total_value\n",
    "\n",
    "def generate_low_stock_report(inventory, threshold=50):\n",
    "    low_stock_items = {}\n",
    "    for product, details in inventory.items():\n",
    "        if details[\"quantity\"] < threshold:\n",
    "            low_stock_items[product] = details\n",
    "    return low_stock_items\n",
    "if __name__ == \"__main__\":\n",
    "    inventory = create_product_inventory()\n",
    "    add_new_product(inventory, \"Tablet\", 80, 400)\n",
    "    update_product_quantity(inventory, \"Laptop\", -5)  # Decrease quantity by 5\n",
    "    total_value = calculate_total_inventory_value(inventory)\n",
    "    print(f\"\\nTotal Inventory Value: ${total_value:.2f}\")\n",
    "    low_stock = generate_low_stock_report(inventory, threshold=50)\n",
    "    print(\"\\nLow-Stock Items:\")\n",
    "    for product, details in low_stock.items():\n",
    "        print(f\"{product}: {details['quantity']} units\")\n"
   ]
  },
  {
   "cell_type": "code",
   "execution_count": 15,
   "id": "fdefff7a-ddc9-4b24-bd15-083f3ee09985",
   "metadata": {},
   "outputs": [
    {
     "name": "stdout",
     "output_type": "stream",
     "text": [
      "Average Grades for Each Student:\n",
      "Alice: 88.33\n",
      "Bob: 83.67\n",
      "Charlie: 91.67\n",
      "David: 75.00\n",
      "\n",
      "Highest grade in Math: Charlie with 92\n",
      "Lowest grade in Math: David with 70\n",
      "\n",
      "Students sorted by average grade (highest to lowest):\n",
      "Charlie: 91.67\n",
      "Alice: 88.33\n",
      "Bob: 83.67\n",
      "David: 75.00\n"
     ]
    }
   ],
   "source": [
    "# (g)\n",
    "def create_student_info():\n",
    "    student_info = {\n",
    "        \"Alice\": {\"Math\": 85, \"English\": 92, \"Science\": 88},\n",
    "        \"Bob\": {\"Math\": 78, \"English\": 83, \"Science\": 90},\n",
    "        \"Charlie\": {\"Math\": 92, \"English\": 95, \"Science\": 88},\n",
    "        \"David\": {\"Math\": 70, \"English\": 75, \"Science\": 80},\n",
    "    }\n",
    "    return student_info\n",
    "\n",
    "def calculate_average_grade(grades):\n",
    "    total_grades = sum(grades.values())\n",
    "    num_subjects = len(grades)\n",
    "    return total_grades / num_subjects\n",
    "\n",
    "def find_highest_lowest_grade(student_info, subject):\n",
    "    highest_grade = None\n",
    "    lowest_grade = None\n",
    "    highest_student = \"\"\n",
    "    lowest_student = \"\"\n",
    "    \n",
    "    for student, grades in student_info.items():\n",
    "        grade = grades.get(subject)\n",
    "        if grade is not None:\n",
    "            if highest_grade is None or grade > highest_grade:\n",
    "                highest_grade = grade\n",
    "                highest_student = student\n",
    "            if lowest_grade is None or grade < lowest_grade:\n",
    "                lowest_grade = grade\n",
    "                lowest_student = student\n",
    "    \n",
    "    return (highest_student, highest_grade), (lowest_student, lowest_grade)\n",
    "\n",
    "def sort_students_by_average(student_info):\n",
    "    student_averages = {}\n",
    "    for student, grades in student_info.items():\n",
    "        student_averages[student] = calculate_average_grade(grades)\n",
    "    sorted_students = sorted(student_averages.items(), key=lambda x: x[1], reverse=True)\n",
    "    \n",
    "    return sorted_students\n",
    "if __name__ == \"__main__\":\n",
    "    student_info = create_student_info()\n",
    "    print(\"Average Grades for Each Student:\")\n",
    "    for student, grades in student_info.items():\n",
    "        average_grade = calculate_average_grade(grades)\n",
    "        print(f\"{student}: {average_grade:.2f}\")\n",
    "    subject = \"Math\"\n",
    "    (highest_student, highest_grade), (lowest_student, lowest_grade) = find_highest_lowest_grade(student_info, subject)\n",
    "    print(f\"\\nHighest grade in {subject}: {highest_student} with {highest_grade}\")\n",
    "    print(f\"Lowest grade in {subject}: {lowest_student} with {lowest_grade}\")\n",
    "    print(\"\\nStudents sorted by average grade (highest to lowest):\")\n",
    "    sorted_students = sort_students_by_average(student_info)\n",
    "    for student, avg in sorted_students:\n",
    "        print(f\"{student}: {avg:.2f}\")\n"
   ]
  },
  {
   "cell_type": "code",
   "execution_count": 17,
   "id": "72678e4a-e676-4399-b872-07d29e504d2c",
   "metadata": {},
   "outputs": [
    {
     "name": "stdout",
     "output_type": "stream",
     "text": [
      "Added 2 Laptop(s) to your cart.\n",
      "Added 1 Smartphone(s) to your cart.\n",
      "Removed 1 Laptop(s) from your cart.\n",
      "\n",
      "Total cost before discounts and taxes: $1900.00\n",
      "Total cost after discount and tax: $1881.00\n"
     ]
    }
   ],
   "source": [
    "# (h)\n",
    "def create_product_inventory():\n",
    "    product_inventory = {\n",
    "        \"Laptop\": {\"price\": 1200, \"quantity\": 50},\n",
    "        \"Smartphone\": {\"price\": 700, \"quantity\": 150},\n",
    "        \"Headphones\": {\"price\": 150, \"quantity\": 200},\n",
    "        \"Keyboard\": {\"price\": 80, \"quantity\": 120},\n",
    "        \"Monitor\": {\"price\": 300, \"quantity\": 30},\n",
    "    }\n",
    "    return product_inventory\n",
    "\n",
    "def add_product_to_cart(cart, product_name, quantity, inventory):\n",
    "    if product_name in inventory and inventory[product_name][\"quantity\"] >= quantity:\n",
    "        if product_name in cart:\n",
    "            cart[product_name][\"quantity\"] += quantity\n",
    "        else:\n",
    "            cart[product_name] = {\"price\": inventory[product_name][\"price\"], \"quantity\": quantity}\n",
    "        inventory[product_name][\"quantity\"] -= quantity\n",
    "        print(f\"Added {quantity} {product_name}(s) to your cart.\")\n",
    "    else:\n",
    "        print(f\"Sorry, {product_name} is not available in the requested quantity.\")\n",
    "\n",
    "def remove_product_from_cart(cart, product_name, quantity, inventory):\n",
    "    if product_name in cart and cart[product_name][\"quantity\"] >= quantity:\n",
    "        cart[product_name][\"quantity\"] -= quantity\n",
    "        inventory[product_name][\"quantity\"] += quantity\n",
    "        print(f\"Removed {quantity} {product_name}(s) from your cart.\")\n",
    "        if cart[product_name][\"quantity\"] == 0:\n",
    "            del cart[product_name]  # Remove the product from the cart if quantity is 0\n",
    "    else:\n",
    "        print(f\"Sorry, {product_name} is not in your cart or the quantity to remove is too large.\")\n",
    "\n",
    "def calculate_total_cost(cart):\n",
    "    total_cost = 0\n",
    "    for product, details in cart.items():\n",
    "        total_cost += details[\"price\"] * details[\"quantity\"]\n",
    "    return total_cost\n",
    "\n",
    "def apply_discount_and_tax(total_cost, discount=0, tax_rate=0.10):\n",
    "    discounted_price = total_cost * (1 - discount)\n",
    "    total_price = discounted_price * (1 + tax_rate)\n",
    "    return total_price\n",
    "if __name__ == \"__main__\":\n",
    "    inventory = create_product_inventory()\n",
    "    cart = {}\n",
    "    add_product_to_cart(cart, \"Laptop\", 2, inventory)\n",
    "    add_product_to_cart(cart, \"Smartphone\", 1, inventory)\n",
    "    remove_product_from_cart(cart, \"Laptop\", 1, inventory)\n",
    "    total_cost = calculate_total_cost(cart)\n",
    "    print(f\"\\nTotal cost before discounts and taxes: ${total_cost:.2f}\")\n",
    "    final_price = apply_discount_and_tax(total_cost, discount=0.10, tax_rate=0.10)\n",
    "    print(f\"Total cost after discount and tax: ${final_price:.2f}\")\n"
   ]
  },
  {
   "cell_type": "code",
   "execution_count": null,
   "id": "0906817b-25de-43bc-8729-dacc11cc488e",
   "metadata": {},
   "outputs": [],
   "source": []
  }
 ],
 "metadata": {
  "kernelspec": {
   "display_name": "Python 3 (ipykernel)",
   "language": "python",
   "name": "python3"
  },
  "language_info": {
   "codemirror_mode": {
    "name": "ipython",
    "version": 3
   },
   "file_extension": ".py",
   "mimetype": "text/x-python",
   "name": "python",
   "nbconvert_exporter": "python",
   "pygments_lexer": "ipython3",
   "version": "3.12.4"
  }
 },
 "nbformat": 4,
 "nbformat_minor": 5
}
